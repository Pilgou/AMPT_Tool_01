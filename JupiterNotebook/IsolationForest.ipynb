{
 "cells": [
  {
   "cell_type": "markdown",
   "id": "c2c3cbd6-07d1-4094-bc4d-b913f9c94b92",
   "metadata": {},
   "source": [
    "# IsolationForest (scikit-learn)"
   ]
  },
  {
   "cell_type": "code",
   "execution_count": 2,
   "id": "290d437a-9280-44f8-be05-6674bbefeb94",
   "metadata": {},
   "outputs": [
    {
     "ename": "ModuleNotFoundError",
     "evalue": "No module named 'sklearn'",
     "output_type": "error",
     "traceback": [
      "\u001b[31m---------------------------------------------------------------------------\u001b[39m",
      "\u001b[31mModuleNotFoundError\u001b[39m                       Traceback (most recent call last)",
      "\u001b[36mCell\u001b[39m\u001b[36m \u001b[39m\u001b[32mIn[2]\u001b[39m\u001b[32m, line 1\u001b[39m\n\u001b[32m----> \u001b[39m\u001b[32m1\u001b[39m \u001b[38;5;28;01mfrom\u001b[39;00m\u001b[38;5;250m \u001b[39m\u001b[34;01msklearn\u001b[39;00m\u001b[34;01m.\u001b[39;00m\u001b[34;01mensemble\u001b[39;00m\u001b[38;5;250m \u001b[39m\u001b[38;5;28;01mimport\u001b[39;00m IsolationForest\n\u001b[32m      2\u001b[39m \u001b[38;5;28;01mimport\u001b[39;00m\u001b[38;5;250m \u001b[39m\u001b[34;01mpandas\u001b[39;00m\u001b[38;5;250m \u001b[39m\u001b[38;5;28;01mas\u001b[39;00m\u001b[38;5;250m \u001b[39m\u001b[34;01mpd\u001b[39;00m\n\u001b[32m      3\u001b[39m \u001b[38;5;28;01mimport\u001b[39;00m\u001b[38;5;250m \u001b[39m\u001b[34;01mnumpy\u001b[39;00m\u001b[38;5;250m \u001b[39m\u001b[38;5;28;01mas\u001b[39;00m\u001b[38;5;250m \u001b[39m\u001b[34;01mnp\u001b[39;00m\n",
      "\u001b[31mModuleNotFoundError\u001b[39m: No module named 'sklearn'"
     ]
    }
   ],
   "source": [
    "from sklearn.ensemble import IsolationForest\n",
    "import pandas as pd\n",
    "import numpy as np\n",
    "import matplotlib.pyplot as plt\n",
    "\n",
    "# Exemple série temporelle\n",
    "date_rng = pd.date_range(start=\"2025-08-28\", periods=100, freq=\"min\")\n",
    "data = np.sin(np.linspace(0, 20, 100)) + np.random.normal(0, 0.2, 100)\n",
    "data[20] = 5   # anomalie volontaire\n",
    "data[70] = -4  # anomalie volontaire\n",
    "\n",
    "df = pd.DataFrame({\"time\": date_rng, \"value\": data})\n",
    "#Creation erreur au niveau de df\n",
    "df.loc[71, \"value\"] = -1"
   ]
  },
  {
   "cell_type": "code",
   "execution_count": null,
   "id": "14e925b2-863c-4ced-9f1f-ad9beb6f5c43",
   "metadata": {},
   "outputs": [],
   "source": [
    "model = IsolationForest(contamination=0.05, random_state=42)\n",
    "df[\"anomaly_iforest\"] = model.fit_predict(df[[\"value\"]])\n",
    "\n",
    "# -1 = anomalie, 1 = normal\n"
   ]
  },
  {
   "cell_type": "code",
   "execution_count": null,
   "id": "6a02bcf3-7ae0-4838-abd9-93dd0c2cc414",
   "metadata": {},
   "outputs": [],
   "source": []
  }
 ],
 "metadata": {
  "kernelspec": {
   "display_name": "Python 3 (ipykernel)",
   "language": "python",
   "name": "python3"
  },
  "language_info": {
   "codemirror_mode": {
    "name": "ipython",
    "version": 3
   },
   "file_extension": ".py",
   "mimetype": "text/x-python",
   "name": "python",
   "nbconvert_exporter": "python",
   "pygments_lexer": "ipython3",
   "version": "3.12.11"
  }
 },
 "nbformat": 4,
 "nbformat_minor": 5
}
